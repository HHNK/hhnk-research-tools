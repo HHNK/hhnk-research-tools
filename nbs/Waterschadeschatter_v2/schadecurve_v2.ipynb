{
 "cells": [
  {
   "cell_type": "code",
   "execution_count": 3,
   "metadata": {},
   "outputs": [
    {
     "ename": "ModuleNotFoundError",
     "evalue": "No module named 'threedi_api_client'",
     "output_type": "error",
     "traceback": [
      "\u001b[1;31m---------------------------------------------------------------------------\u001b[0m",
      "\u001b[1;31mModuleNotFoundError\u001b[0m                       Traceback (most recent call last)",
      "Cell \u001b[1;32mIn[3], line 13\u001b[0m\n\u001b[0;32m     10\u001b[0m \u001b[39mimport\u001b[39;00m \u001b[39mtempfile\u001b[39;00m\n\u001b[0;32m     11\u001b[0m \u001b[39m#from hhnk_research_tools import raster_functions as rf\u001b[39;00m\n\u001b[0;32m     12\u001b[0m \u001b[39m#from hhnk_research_tools import Raster\u001b[39;00m\n\u001b[1;32m---> 13\u001b[0m \u001b[39mimport\u001b[39;00m \u001b[39mhhnk_research_tools\u001b[39;00m \u001b[39mas\u001b[39;00m \u001b[39mhrt\u001b[39;00m\n\u001b[0;32m     14\u001b[0m \u001b[39mimport\u001b[39;00m \u001b[39mrasterio\u001b[39;00m \n\u001b[0;32m     16\u001b[0m \u001b[39m#setting paths\u001b[39;00m\n",
      "File \u001b[1;32m\\\\corp.hhnk.nl\\data\\hydrologen_data\\data\\github\\jkaptein\\hhnk-research-tools\\hhnk_research_tools\\__init__.py:14\u001b[0m\n\u001b[0;32m      7\u001b[0m \u001b[39mfrom\u001b[39;00m \u001b[39mhhnk_research_tools\u001b[39;00m\u001b[39m.\u001b[39;00m\u001b[39mfolder_file_classes\u001b[39;00m\u001b[39m.\u001b[39;00m\u001b[39mfile_class\u001b[39;00m \u001b[39mimport\u001b[39;00m (\n\u001b[0;32m      8\u001b[0m     File\n\u001b[0;32m      9\u001b[0m )\n\u001b[0;32m     11\u001b[0m \u001b[39mfrom\u001b[39;00m \u001b[39mhhnk_research_tools\u001b[39;00m\u001b[39m.\u001b[39;00m\u001b[39mthreedi\u001b[39;00m\u001b[39m.\u001b[39;00m\u001b[39mread_api_file\u001b[39;00m \u001b[39mimport\u001b[39;00m (\n\u001b[0;32m     12\u001b[0m     read_api_file\n\u001b[0;32m     13\u001b[0m )  \n\u001b[1;32m---> 14\u001b[0m \u001b[39mfrom\u001b[39;00m \u001b[39mhhnk_research_tools\u001b[39;00m\u001b[39m.\u001b[39;00m\u001b[39mthreedi\u001b[39;00m\u001b[39m.\u001b[39;00m\u001b[39mcall_api\u001b[39;00m \u001b[39mimport\u001b[39;00m (\n\u001b[0;32m     15\u001b[0m     call_threedi_api\n\u001b[0;32m     16\u001b[0m )\n\u001b[0;32m     18\u001b[0m \u001b[39mfrom\u001b[39;00m \u001b[39mhhnk_research_tools\u001b[39;00m\u001b[39m.\u001b[39;00m\u001b[39mwaterschadeschatter\u001b[39;00m\u001b[39m.\u001b[39;00m\u001b[39mwss_main\u001b[39;00m \u001b[39mimport\u001b[39;00m Waterschadeschatter\n\u001b[0;32m     20\u001b[0m \u001b[39mimport\u001b[39;00m \u001b[39mhhnk_research_tools\u001b[39;00m\u001b[39m.\u001b[39;00m\u001b[39mwaterschadeschatter\u001b[39;00m\u001b[39m.\u001b[39;00m\u001b[39mresources\u001b[39;00m\n",
      "File \u001b[1;32m\\\\corp.hhnk.nl\\data\\hydrologen_data\\data\\github\\jkaptein\\hhnk-research-tools\\hhnk_research_tools\\threedi\\call_api.py:2\u001b[0m\n\u001b[1;32m----> 2\u001b[0m \u001b[39mfrom\u001b[39;00m \u001b[39mthreedi_api_client\u001b[39;00m\u001b[39m.\u001b[39;00m\u001b[39mopenapi\u001b[39;00m \u001b[39mimport\u001b[39;00m ApiException\n\u001b[0;32m      3\u001b[0m \u001b[39mimport\u001b[39;00m \u001b[39mtime\u001b[39;00m\n\u001b[0;32m      6\u001b[0m \u001b[39mdef\u001b[39;00m \u001b[39mcall_threedi_api\u001b[39m(func, max_retries\u001b[39m=\u001b[39m\u001b[39m60\u001b[39m, \u001b[39m*\u001b[39m\u001b[39m*\u001b[39mkwargs):\n",
      "\u001b[1;31mModuleNotFoundError\u001b[0m: No module named 'threedi_api_client'"
     ]
    }
   ],
   "source": [
    "import os\n",
    "import geopandas as gpd\n",
    "import pandas as pd\n",
    "import numpy as np\n",
    "import sys\n",
    "from osgeo import gdal, ogr, gdal_array, osr\n",
    "import shapely.geometry\n",
    "import multiprocessing as mp\n",
    "import datetime\n",
    "import tempfile\n",
    "#from hhnk_research_tools import raster_functions as rf\n",
    "#from hhnk_research_tools import Raster\n",
    "import hhnk_research_tools as hrt\n",
    "import rasterio \n",
    "\n",
    "#setting paths\n",
    "config = {\n",
    "    \"landuse\": r\"E:\\01.basisgegevens\\rasters\\landgebruik\\landuse2020_tiles\\combined_rasters.vrt\",\n",
    "    \"damagecurve\": \" \",\n",
    "    \"dem\": r\"E:\\01.basisgegevens\\rasters\\DEM\\DEM_AHN4_int.vrt\",\n",
    "    \"peilgebieden\": r\"E:\\01.basisgegevens\\hhnk_schadeschatter\\01_data\\peilgebieden_Marken.shp\",\n",
    "    \"output_folder\": r\"G:\\02_Werkplaatsen\\06_HYD\\Projecten\\HKC23013 Schadecurve 2.0\\08. schadeschatter_v2\\OUTPUT\"\n",
    "}\n",
    "\n",
    "pgb_shp = gpd.read_file(config['peilgebieden']) #CHANGE\n",
    "dem = hrt.Raster(config['dem'])\n",
    "output_folder = config['output_folder']"
   ]
  },
  {
   "cell_type": "code",
   "execution_count": null,
   "metadata": {},
   "outputs": [],
   "source": [
    "#peilgebieden shapefile to raster\n",
    "meta=hrt.create_meta_from_gdf(gdf=pgb_shp, res=dem.metadata['pixel_width'])\n",
    "hrt.gdf_to_raster(gdf=pgb_shp, value_field='peil_id', raster_out=str(output_folder + '\\combined1.tiff'),\n",
    "    nodata=0, metadata=meta, epsg=28992, driver='GTiff')\n"
   ]
  },
  {
   "cell_type": "code",
   "execution_count": null,
   "metadata": {},
   "outputs": [],
   "source": [
    "def define_lowest_point(rasterfile):\n",
    "    rasterfile = rasterfile \n",
    "    percentiles = [5] \n",
    "    rasterArray = gdal_array.LoadFile(rasterfile) #Read raster as numpy array\n",
    "    rasterArray = np.where(rasterArray==-9999, np.nan, rasterArray)\n",
    "\n",
    "    for p in percentiles:\n",
    "        lowest_1 = np.nanpercentile(rasterArray,p)\n",
    "        print(lowest_1)\n",
    "    return lowest_1\n"
   ]
  },
  {
   "cell_type": "code",
   "execution_count": 147,
   "metadata": {},
   "outputs": [],
   "source": [
    "for index, row in pgb_shp.iterrows():\n",
    "\n",
    "    raster_pgb = hrt.Raster(os.path.join(output_folder, f'pgb_{row.peil_id}.tif'))\n",
    "    data = row[['peil_id', 'streefpeil', 'geometry']].to_dict()\n",
    "    sub_df = gpd.GeoDataFrame(data=[data])\n",
    "    meta= hrt.create_meta_from_gdf(gdf=sub_df, res=dem.metadata['pixel_width'])\n",
    "\n",
    "    hrt.gdf_to_raster(gdf=sub_df,\n",
    "                value_field='peil_id',\n",
    "                raster_out= raster_pgb,\n",
    "                nodata=-9999,\n",
    "                metadata=meta,\n",
    "                read_array=False,\n",
    "                overwrite=False)\n",
    "    break"
   ]
  },
  {
   "cell_type": "code",
   "execution_count": 142,
   "metadata": {},
   "outputs": [],
   "source": [
    "blocks_df = raster_pgb.generate_blocks_geometry()\n",
    "for index, row in blocks_df.iterrows():\n",
    "    "
   ]
  },
  {
   "cell_type": "code",
   "execution_count": null,
   "metadata": {},
   "outputs": [],
   "source": []
  },
  {
   "cell_type": "code",
   "execution_count": 146,
   "metadata": {},
   "outputs": [],
   "source": [
    "blocks_df[['ix','iy','geometry']].to_file(\"blocks.gpkg\")"
   ]
  }
 ],
 "metadata": {
  "kernelspec": {
   "display_name": "threedipy",
   "language": "python",
   "name": "python3"
  },
  "language_info": {
   "codemirror_mode": {
    "name": "ipython",
    "version": 3
   },
   "file_extension": ".py",
   "mimetype": "text/x-python",
   "name": "python",
   "nbconvert_exporter": "python",
   "pygments_lexer": "ipython3",
   "version": "3.9.18"
  },
  "orig_nbformat": 4
 },
 "nbformat": 4,
 "nbformat_minor": 2
}
